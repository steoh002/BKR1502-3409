{
 "cells": [
  {
   "cell_type": "code",
   "execution_count": 1,
   "id": "aa5a46fd",
   "metadata": {},
   "outputs": [],
   "source": [
    "from flask import Flask"
   ]
  },
  {
   "cell_type": "code",
   "execution_count": 2,
   "id": "dcc878d0",
   "metadata": {},
   "outputs": [],
   "source": [
    "app=Flask(__name__)"
   ]
  },
  {
   "cell_type": "code",
   "execution_count": 3,
   "id": "a7e7a57a",
   "metadata": {},
   "outputs": [],
   "source": [
    "from flask import request, render_template\n",
    "from keras.models import load_model\n",
    "\n",
    "@app.route(\"/\",methods=[\"GET\",\"POST\"])\n",
    "def index():\n",
    "    if request.method == \"POST\":\n",
    "        NPTA=request.form.get(\"NPTA\")\n",
    "        TLTA=request.form.get(\"TLTA\")\n",
    "        WCTA=request.form.get(\"WCTA\")\n",
    "        print(PLTA,TLTA,WCTA)\n",
    "        model=load_model(\"BKRNN\")\n",
    "        pred = model.pred([[float(NPTA),float(TLTA),float(WCTA)]])\n",
    "        print(pred)\n",
    "        s=\"The predicted bankruptcy score is: \"+ str(pred)\n",
    "        return(render_template(\"index.html\",result=\"1\"))\n",
    "    else:\n",
    "        return(render_template(\"index.html\",result=\"2\"))\n",
    "    \n",
    "    "
   ]
  },
  {
   "cell_type": "code",
   "execution_count": null,
   "id": "ff7c394f",
   "metadata": {},
   "outputs": [
    {
     "name": "stdout",
     "output_type": "stream",
     "text": [
      " * Serving Flask app \"__main__\" (lazy loading)\n",
      " * Environment: production\n",
      "\u001b[31m   WARNING: This is a development server. Do not use it in a production deployment.\u001b[0m\n",
      "\u001b[2m   Use a production WSGI server instead.\u001b[0m\n",
      " * Debug mode: off\n"
     ]
    },
    {
     "name": "stderr",
     "output_type": "stream",
     "text": [
      " * Running on http://127.0.0.1:5000/ (Press CTRL+C to quit)\n",
      "127.0.0.1 - - [15/Feb/2022 11:03:14] \"GET / HTTP/1.1\" 200 -\n",
      "[2022-02-15 11:03:21,106] ERROR in app: Exception on / [POST]\n",
      "Traceback (most recent call last):\n",
      "  File \"/Users/sarahteoh/opt/anaconda3/lib/python3.9/site-packages/flask/app.py\", line 2447, in wsgi_app\n",
      "    response = self.full_dispatch_request()\n",
      "  File \"/Users/sarahteoh/opt/anaconda3/lib/python3.9/site-packages/flask/app.py\", line 1952, in full_dispatch_request\n",
      "    rv = self.handle_user_exception(e)\n",
      "  File \"/Users/sarahteoh/opt/anaconda3/lib/python3.9/site-packages/flask/app.py\", line 1821, in handle_user_exception\n",
      "    reraise(exc_type, exc_value, tb)\n",
      "  File \"/Users/sarahteoh/opt/anaconda3/lib/python3.9/site-packages/flask/_compat.py\", line 39, in reraise\n",
      "    raise value\n",
      "  File \"/Users/sarahteoh/opt/anaconda3/lib/python3.9/site-packages/flask/app.py\", line 1950, in full_dispatch_request\n",
      "    rv = self.dispatch_request()\n",
      "  File \"/Users/sarahteoh/opt/anaconda3/lib/python3.9/site-packages/flask/app.py\", line 1936, in dispatch_request\n",
      "    return self.view_functions[rule.endpoint](**req.view_args)\n",
      "  File \"/var/folders/fj/bxcqcvqn3qb_hrzbj4kby3t00000gn/T/ipykernel_4388/635844816.py\", line 10, in index\n",
      "    print(PLTA,TLTA,WCTA)\n",
      "NameError: name 'PLTA' is not defined\n",
      "127.0.0.1 - - [15/Feb/2022 11:03:21] \"POST / HTTP/1.1\" 500 -\n",
      "127.0.0.1 - - [15/Feb/2022 11:03:37] \"GET / HTTP/1.1\" 200 -\n",
      "[2022-02-15 11:05:23,713] ERROR in app: Exception on / [POST]\n",
      "Traceback (most recent call last):\n",
      "  File \"/Users/sarahteoh/opt/anaconda3/lib/python3.9/site-packages/flask/app.py\", line 2447, in wsgi_app\n",
      "    response = self.full_dispatch_request()\n",
      "  File \"/Users/sarahteoh/opt/anaconda3/lib/python3.9/site-packages/flask/app.py\", line 1952, in full_dispatch_request\n",
      "    rv = self.handle_user_exception(e)\n",
      "  File \"/Users/sarahteoh/opt/anaconda3/lib/python3.9/site-packages/flask/app.py\", line 1821, in handle_user_exception\n",
      "    reraise(exc_type, exc_value, tb)\n",
      "  File \"/Users/sarahteoh/opt/anaconda3/lib/python3.9/site-packages/flask/_compat.py\", line 39, in reraise\n",
      "    raise value\n",
      "  File \"/Users/sarahteoh/opt/anaconda3/lib/python3.9/site-packages/flask/app.py\", line 1950, in full_dispatch_request\n",
      "    rv = self.dispatch_request()\n",
      "  File \"/Users/sarahteoh/opt/anaconda3/lib/python3.9/site-packages/flask/app.py\", line 1936, in dispatch_request\n",
      "    return self.view_functions[rule.endpoint](**req.view_args)\n",
      "  File \"/var/folders/fj/bxcqcvqn3qb_hrzbj4kby3t00000gn/T/ipykernel_4388/635844816.py\", line 10, in index\n",
      "    print(PLTA,TLTA,WCTA)\n",
      "NameError: name 'PLTA' is not defined\n",
      "127.0.0.1 - - [15/Feb/2022 11:05:23] \"POST / HTTP/1.1\" 500 -\n",
      "[2022-02-15 11:06:21,217] ERROR in app: Exception on / [POST]\n",
      "Traceback (most recent call last):\n",
      "  File \"/Users/sarahteoh/opt/anaconda3/lib/python3.9/site-packages/flask/app.py\", line 2447, in wsgi_app\n",
      "    response = self.full_dispatch_request()\n",
      "  File \"/Users/sarahteoh/opt/anaconda3/lib/python3.9/site-packages/flask/app.py\", line 1952, in full_dispatch_request\n",
      "    rv = self.handle_user_exception(e)\n",
      "  File \"/Users/sarahteoh/opt/anaconda3/lib/python3.9/site-packages/flask/app.py\", line 1821, in handle_user_exception\n",
      "    reraise(exc_type, exc_value, tb)\n",
      "  File \"/Users/sarahteoh/opt/anaconda3/lib/python3.9/site-packages/flask/_compat.py\", line 39, in reraise\n",
      "    raise value\n",
      "  File \"/Users/sarahteoh/opt/anaconda3/lib/python3.9/site-packages/flask/app.py\", line 1950, in full_dispatch_request\n",
      "    rv = self.dispatch_request()\n",
      "  File \"/Users/sarahteoh/opt/anaconda3/lib/python3.9/site-packages/flask/app.py\", line 1936, in dispatch_request\n",
      "    return self.view_functions[rule.endpoint](**req.view_args)\n",
      "  File \"/var/folders/fj/bxcqcvqn3qb_hrzbj4kby3t00000gn/T/ipykernel_4388/635844816.py\", line 10, in index\n",
      "    print(PLTA,TLTA,WCTA)\n",
      "NameError: name 'PLTA' is not defined\n",
      "127.0.0.1 - - [15/Feb/2022 11:06:21] \"POST / HTTP/1.1\" 500 -\n",
      "127.0.0.1 - - [15/Feb/2022 11:06:21] \"GET /favicon.ico HTTP/1.1\" 404 -\n"
     ]
    }
   ],
   "source": [
    "#if __name__==\"__main__\":\n",
    "   # app.run(host=os.getenv('IP', '0.0.0.0'), \n",
    "            #port=int(os.getenv('PORT', 4444)))\n",
    "    \n",
    "if __name__==\"__main__\":\n",
    "    app.run()\n",
    "\n",
    "    "
   ]
  },
  {
   "cell_type": "code",
   "execution_count": null,
   "id": "fda774da",
   "metadata": {},
   "outputs": [],
   "source": []
  }
 ],
 "metadata": {
  "kernelspec": {
   "display_name": "Python 3 (ipykernel)",
   "language": "python",
   "name": "python3"
  },
  "language_info": {
   "codemirror_mode": {
    "name": "ipython",
    "version": 3
   },
   "file_extension": ".py",
   "mimetype": "text/x-python",
   "name": "python",
   "nbconvert_exporter": "python",
   "pygments_lexer": "ipython3",
   "version": "3.9.7"
  }
 },
 "nbformat": 4,
 "nbformat_minor": 5
}
